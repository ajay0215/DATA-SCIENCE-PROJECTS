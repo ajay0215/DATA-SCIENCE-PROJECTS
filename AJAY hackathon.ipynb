{
 "cells": [
  {
   "cell_type": "code",
   "execution_count": 45,
   "metadata": {},
   "outputs": [],
   "source": [
    "import pandas as pd\n",
    "import numpy as np\n",
    "import matplotlib.pyplot as plt\n",
    "import seaborn as sns\n",
    "%matplotlib inline"
   ]
  },
  {
   "cell_type": "code",
   "execution_count": 46,
   "metadata": {},
   "outputs": [],
   "source": [
    "train=pd.read_csv(\"Training Data Set.csv\")"
   ]
  },
  {
   "cell_type": "code",
   "execution_count": 47,
   "metadata": {},
   "outputs": [
    {
     "data": {
      "text/html": [
       "<div>\n",
       "<style scoped>\n",
       "    .dataframe tbody tr th:only-of-type {\n",
       "        vertical-align: middle;\n",
       "    }\n",
       "\n",
       "    .dataframe tbody tr th {\n",
       "        vertical-align: top;\n",
       "    }\n",
       "\n",
       "    .dataframe thead th {\n",
       "        text-align: right;\n",
       "    }\n",
       "</style>\n",
       "<table border=\"1\" class=\"dataframe\">\n",
       "  <thead>\n",
       "    <tr style=\"text-align: right;\">\n",
       "      <th></th>\n",
       "      <th>Id</th>\n",
       "      <th>Maker</th>\n",
       "      <th>model</th>\n",
       "      <th>Location</th>\n",
       "      <th>Distance</th>\n",
       "      <th>Owner Type</th>\n",
       "      <th>manufacture_year</th>\n",
       "      <th>Age of car</th>\n",
       "      <th>engine_displacement</th>\n",
       "      <th>engine_power</th>\n",
       "      <th>body_type</th>\n",
       "      <th>Vroom Audit Rating</th>\n",
       "      <th>transmission</th>\n",
       "      <th>door_count</th>\n",
       "      <th>seat_count</th>\n",
       "      <th>fuel_type</th>\n",
       "      <th>Price</th>\n",
       "    </tr>\n",
       "  </thead>\n",
       "  <tbody>\n",
       "    <tr>\n",
       "      <th>0</th>\n",
       "      <td>25001</td>\n",
       "      <td>skoda</td>\n",
       "      <td>octavia</td>\n",
       "      <td>Ahmedabad</td>\n",
       "      <td>NaN</td>\n",
       "      <td>Second</td>\n",
       "      <td>1964</td>\n",
       "      <td>55</td>\n",
       "      <td>1964</td>\n",
       "      <td>147.0</td>\n",
       "      <td>compact</td>\n",
       "      <td>8</td>\n",
       "      <td>man</td>\n",
       "      <td>None</td>\n",
       "      <td>None</td>\n",
       "      <td>petrol</td>\n",
       "      <td>543764.25</td>\n",
       "    </tr>\n",
       "    <tr>\n",
       "      <th>1</th>\n",
       "      <td>25002</td>\n",
       "      <td>fiat</td>\n",
       "      <td>panda</td>\n",
       "      <td>Ahmedabad</td>\n",
       "      <td>27750.0</td>\n",
       "      <td>Third</td>\n",
       "      <td>2012</td>\n",
       "      <td>7</td>\n",
       "      <td>1242</td>\n",
       "      <td>51.0</td>\n",
       "      <td>NaN</td>\n",
       "      <td>6</td>\n",
       "      <td>man</td>\n",
       "      <td>4</td>\n",
       "      <td>4</td>\n",
       "      <td>petrol</td>\n",
       "      <td>401819.25</td>\n",
       "    </tr>\n",
       "    <tr>\n",
       "      <th>2</th>\n",
       "      <td>25003</td>\n",
       "      <td>bmw</td>\n",
       "      <td>x1</td>\n",
       "      <td>Hyderabad</td>\n",
       "      <td>46000.0</td>\n",
       "      <td>Third</td>\n",
       "      <td>2014</td>\n",
       "      <td>5</td>\n",
       "      <td>1995</td>\n",
       "      <td>105.0</td>\n",
       "      <td>NaN</td>\n",
       "      <td>7</td>\n",
       "      <td>auto</td>\n",
       "      <td>4</td>\n",
       "      <td>5</td>\n",
       "      <td>diesel</td>\n",
       "      <td>2392855.50</td>\n",
       "    </tr>\n",
       "    <tr>\n",
       "      <th>3</th>\n",
       "      <td>25004</td>\n",
       "      <td>nissan</td>\n",
       "      <td>juke</td>\n",
       "      <td>Mumbai</td>\n",
       "      <td>43949.0</td>\n",
       "      <td>Third</td>\n",
       "      <td>2011</td>\n",
       "      <td>8</td>\n",
       "      <td>1618</td>\n",
       "      <td>140.0</td>\n",
       "      <td>NaN</td>\n",
       "      <td>7</td>\n",
       "      <td>man</td>\n",
       "      <td>4</td>\n",
       "      <td>5</td>\n",
       "      <td>petrol</td>\n",
       "      <td>958606.50</td>\n",
       "    </tr>\n",
       "    <tr>\n",
       "      <th>4</th>\n",
       "      <td>25005</td>\n",
       "      <td>bmw</td>\n",
       "      <td>x5</td>\n",
       "      <td>Jaipur</td>\n",
       "      <td>59524.0</td>\n",
       "      <td>Fourth &amp; Above</td>\n",
       "      <td>2012</td>\n",
       "      <td>7</td>\n",
       "      <td>2993</td>\n",
       "      <td>180.0</td>\n",
       "      <td>NaN</td>\n",
       "      <td>7</td>\n",
       "      <td>auto</td>\n",
       "      <td>4</td>\n",
       "      <td>5</td>\n",
       "      <td>diesel</td>\n",
       "      <td>3085561.50</td>\n",
       "    </tr>\n",
       "  </tbody>\n",
       "</table>\n",
       "</div>"
      ],
      "text/plain": [
       "      Id   Maker    model   Location  Distance       Owner Type  \\\n",
       "0  25001   skoda  octavia  Ahmedabad        NaN          Second   \n",
       "1  25002    fiat    panda  Ahmedabad    27750.0           Third   \n",
       "2  25003     bmw       x1  Hyderabad    46000.0           Third   \n",
       "3  25004  nissan     juke     Mumbai    43949.0           Third   \n",
       "4  25005     bmw       x5     Jaipur    59524.0  Fourth & Above   \n",
       "\n",
       "   manufacture_year  Age of car  engine_displacement  engine_power body_type  \\\n",
       "0              1964          55                 1964         147.0   compact   \n",
       "1              2012           7                 1242          51.0       NaN   \n",
       "2              2014           5                 1995         105.0       NaN   \n",
       "3              2011           8                 1618         140.0       NaN   \n",
       "4              2012           7                 2993         180.0       NaN   \n",
       "\n",
       "   Vroom Audit Rating transmission door_count seat_count fuel_type       Price  \n",
       "0                   8          man       None       None    petrol   543764.25  \n",
       "1                   6          man          4          4    petrol   401819.25  \n",
       "2                   7         auto          4          5    diesel  2392855.50  \n",
       "3                   7          man          4          5    petrol   958606.50  \n",
       "4                   7         auto          4          5    diesel  3085561.50  "
      ]
     },
     "execution_count": 47,
     "metadata": {},
     "output_type": "execute_result"
    }
   ],
   "source": [
    "train.head()"
   ]
  },
  {
   "cell_type": "code",
   "execution_count": 48,
   "metadata": {},
   "outputs": [
    {
     "data": {
      "text/plain": [
       "(53515, 17)"
      ]
     },
     "execution_count": 48,
     "metadata": {},
     "output_type": "execute_result"
    }
   ],
   "source": [
    "train.shape"
   ]
  },
  {
   "cell_type": "code",
   "execution_count": 49,
   "metadata": {},
   "outputs": [],
   "source": [
    "test=pd.read_csv(\"Test Data Set.csv\")"
   ]
  },
  {
   "cell_type": "code",
   "execution_count": 50,
   "metadata": {},
   "outputs": [
    {
     "data": {
      "text/html": [
       "<div>\n",
       "<style scoped>\n",
       "    .dataframe tbody tr th:only-of-type {\n",
       "        vertical-align: middle;\n",
       "    }\n",
       "\n",
       "    .dataframe tbody tr th {\n",
       "        vertical-align: top;\n",
       "    }\n",
       "\n",
       "    .dataframe thead th {\n",
       "        text-align: right;\n",
       "    }\n",
       "</style>\n",
       "<table border=\"1\" class=\"dataframe\">\n",
       "  <thead>\n",
       "    <tr style=\"text-align: right;\">\n",
       "      <th></th>\n",
       "      <th>Id</th>\n",
       "      <th>Maker</th>\n",
       "      <th>model</th>\n",
       "      <th>Location</th>\n",
       "      <th>Distance</th>\n",
       "      <th>Owner Type</th>\n",
       "      <th>manufacture_year</th>\n",
       "      <th>Age of car</th>\n",
       "      <th>engine_displacement</th>\n",
       "      <th>engine_power</th>\n",
       "      <th>body_type</th>\n",
       "      <th>Vroom Audit Rating</th>\n",
       "      <th>transmission</th>\n",
       "      <th>door_count</th>\n",
       "      <th>seat_count</th>\n",
       "      <th>fuel_type</th>\n",
       "    </tr>\n",
       "  </thead>\n",
       "  <tbody>\n",
       "    <tr>\n",
       "      <th>0</th>\n",
       "      <td>11001</td>\n",
       "      <td>skoda</td>\n",
       "      <td>octavia</td>\n",
       "      <td>Mumbai</td>\n",
       "      <td>150000.0</td>\n",
       "      <td>First</td>\n",
       "      <td>2007</td>\n",
       "      <td>12</td>\n",
       "      <td>1595</td>\n",
       "      <td>75.0</td>\n",
       "      <td>NaN</td>\n",
       "      <td>5</td>\n",
       "      <td>man</td>\n",
       "      <td>4</td>\n",
       "      <td>5</td>\n",
       "      <td>petrol</td>\n",
       "    </tr>\n",
       "    <tr>\n",
       "      <th>1</th>\n",
       "      <td>11002</td>\n",
       "      <td>skoda</td>\n",
       "      <td>rapid</td>\n",
       "      <td>Coimbatore</td>\n",
       "      <td>29376.0</td>\n",
       "      <td>Third</td>\n",
       "      <td>2014</td>\n",
       "      <td>5</td>\n",
       "      <td>1598</td>\n",
       "      <td>77.0</td>\n",
       "      <td>NaN</td>\n",
       "      <td>4</td>\n",
       "      <td>man</td>\n",
       "      <td>4</td>\n",
       "      <td>5</td>\n",
       "      <td>diesel</td>\n",
       "    </tr>\n",
       "    <tr>\n",
       "      <th>2</th>\n",
       "      <td>11003</td>\n",
       "      <td>skoda</td>\n",
       "      <td>octavia</td>\n",
       "      <td>Coimbatore</td>\n",
       "      <td>30563.0</td>\n",
       "      <td>Second</td>\n",
       "      <td>2014</td>\n",
       "      <td>5</td>\n",
       "      <td>1968</td>\n",
       "      <td>110.0</td>\n",
       "      <td>NaN</td>\n",
       "      <td>5</td>\n",
       "      <td>man</td>\n",
       "      <td>5</td>\n",
       "      <td>5</td>\n",
       "      <td>diesel</td>\n",
       "    </tr>\n",
       "    <tr>\n",
       "      <th>3</th>\n",
       "      <td>11004</td>\n",
       "      <td>audi</td>\n",
       "      <td>q3</td>\n",
       "      <td>Delhi</td>\n",
       "      <td>8650.0</td>\n",
       "      <td>Fourth &amp; Above</td>\n",
       "      <td>2015</td>\n",
       "      <td>4</td>\n",
       "      <td>1968</td>\n",
       "      <td>110.0</td>\n",
       "      <td>NaN</td>\n",
       "      <td>8</td>\n",
       "      <td>auto</td>\n",
       "      <td>4</td>\n",
       "      <td>5</td>\n",
       "      <td>diesel</td>\n",
       "    </tr>\n",
       "    <tr>\n",
       "      <th>4</th>\n",
       "      <td>11005</td>\n",
       "      <td>audi</td>\n",
       "      <td>tt</td>\n",
       "      <td>Chennai</td>\n",
       "      <td>6400.0</td>\n",
       "      <td>Third</td>\n",
       "      <td>2015</td>\n",
       "      <td>4</td>\n",
       "      <td>1984</td>\n",
       "      <td>169.0</td>\n",
       "      <td>NaN</td>\n",
       "      <td>4</td>\n",
       "      <td>auto</td>\n",
       "      <td>2</td>\n",
       "      <td>None</td>\n",
       "      <td>petrol</td>\n",
       "    </tr>\n",
       "  </tbody>\n",
       "</table>\n",
       "</div>"
      ],
      "text/plain": [
       "      Id  Maker    model    Location  Distance       Owner Type  \\\n",
       "0  11001  skoda  octavia      Mumbai   150000.0           First   \n",
       "1  11002  skoda    rapid  Coimbatore    29376.0           Third   \n",
       "2  11003  skoda  octavia  Coimbatore    30563.0          Second   \n",
       "3  11004   audi       q3       Delhi     8650.0  Fourth & Above   \n",
       "4  11005   audi       tt     Chennai     6400.0           Third   \n",
       "\n",
       "   manufacture_year  Age of car  engine_displacement  engine_power body_type  \\\n",
       "0              2007          12                 1595          75.0       NaN   \n",
       "1              2014           5                 1598          77.0       NaN   \n",
       "2              2014           5                 1968         110.0       NaN   \n",
       "3              2015           4                 1968         110.0       NaN   \n",
       "4              2015           4                 1984         169.0       NaN   \n",
       "\n",
       "   Vroom Audit Rating transmission door_count seat_count fuel_type  \n",
       "0                   5          man          4          5    petrol  \n",
       "1                   4          man          4          5    diesel  \n",
       "2                   5          man          5          5    diesel  \n",
       "3                   8         auto          4          5    diesel  \n",
       "4                   4         auto          2       None    petrol  "
      ]
     },
     "execution_count": 50,
     "metadata": {},
     "output_type": "execute_result"
    }
   ],
   "source": [
    "test.head()"
   ]
  },
  {
   "cell_type": "code",
   "execution_count": 51,
   "metadata": {},
   "outputs": [
    {
     "data": {
      "text/plain": [
       "(5615, 16)"
      ]
     },
     "execution_count": 51,
     "metadata": {},
     "output_type": "execute_result"
    }
   ],
   "source": [
    "test.shape"
   ]
  },
  {
   "cell_type": "code",
   "execution_count": 52,
   "metadata": {},
   "outputs": [
    {
     "data": {
      "text/plain": [
       "skoda       21563\n",
       "toyota       7840\n",
       "audi         7326\n",
       "bmw          7178\n",
       "nissan       5485\n",
       "hyundai      2240\n",
       "fiat         1845\n",
       "maserati       38\n",
       "Name: Maker, dtype: int64"
      ]
     },
     "execution_count": 52,
     "metadata": {},
     "output_type": "execute_result"
    }
   ],
   "source": [
    "train[\"Maker\"].value_counts()"
   ]
  },
  {
   "cell_type": "code",
   "execution_count": 53,
   "metadata": {},
   "outputs": [
    {
     "data": {
      "text/plain": [
       "First             13406\n",
       "Third             13395\n",
       "Second            13365\n",
       "Fourth & Above    13349\n",
       "Name: Owner Type, dtype: int64"
      ]
     },
     "execution_count": 53,
     "metadata": {},
     "output_type": "execute_result"
    }
   ],
   "source": [
    "train[\"Owner Type\"].value_counts()"
   ]
  },
  {
   "cell_type": "code",
   "execution_count": 54,
   "metadata": {},
   "outputs": [
    {
     "data": {
      "text/plain": [
       "man     36734\n",
       "auto    16781\n",
       "Name: transmission, dtype: int64"
      ]
     },
     "execution_count": 54,
     "metadata": {},
     "output_type": "execute_result"
    }
   ],
   "source": [
    "train[\"transmission\"].value_counts()"
   ]
  },
  {
   "cell_type": "code",
   "execution_count": 55,
   "metadata": {},
   "outputs": [],
   "source": [
    "train.drop([\"model\",\"Location\",\"door_count\",\"body_type\",\"seat_count\"],axis=1,inplace=True)"
   ]
  },
  {
   "cell_type": "code",
   "execution_count": 56,
   "metadata": {},
   "outputs": [
    {
     "data": {
      "text/html": [
       "<div>\n",
       "<style scoped>\n",
       "    .dataframe tbody tr th:only-of-type {\n",
       "        vertical-align: middle;\n",
       "    }\n",
       "\n",
       "    .dataframe tbody tr th {\n",
       "        vertical-align: top;\n",
       "    }\n",
       "\n",
       "    .dataframe thead th {\n",
       "        text-align: right;\n",
       "    }\n",
       "</style>\n",
       "<table border=\"1\" class=\"dataframe\">\n",
       "  <thead>\n",
       "    <tr style=\"text-align: right;\">\n",
       "      <th></th>\n",
       "      <th>Id</th>\n",
       "      <th>Maker</th>\n",
       "      <th>Distance</th>\n",
       "      <th>Owner Type</th>\n",
       "      <th>manufacture_year</th>\n",
       "      <th>Age of car</th>\n",
       "      <th>engine_displacement</th>\n",
       "      <th>engine_power</th>\n",
       "      <th>Vroom Audit Rating</th>\n",
       "      <th>transmission</th>\n",
       "      <th>fuel_type</th>\n",
       "      <th>Price</th>\n",
       "    </tr>\n",
       "  </thead>\n",
       "  <tbody>\n",
       "    <tr>\n",
       "      <th>0</th>\n",
       "      <td>25001</td>\n",
       "      <td>skoda</td>\n",
       "      <td>NaN</td>\n",
       "      <td>Second</td>\n",
       "      <td>1964</td>\n",
       "      <td>55</td>\n",
       "      <td>1964</td>\n",
       "      <td>147.0</td>\n",
       "      <td>8</td>\n",
       "      <td>man</td>\n",
       "      <td>petrol</td>\n",
       "      <td>543764.25</td>\n",
       "    </tr>\n",
       "    <tr>\n",
       "      <th>1</th>\n",
       "      <td>25002</td>\n",
       "      <td>fiat</td>\n",
       "      <td>27750.0</td>\n",
       "      <td>Third</td>\n",
       "      <td>2012</td>\n",
       "      <td>7</td>\n",
       "      <td>1242</td>\n",
       "      <td>51.0</td>\n",
       "      <td>6</td>\n",
       "      <td>man</td>\n",
       "      <td>petrol</td>\n",
       "      <td>401819.25</td>\n",
       "    </tr>\n",
       "    <tr>\n",
       "      <th>2</th>\n",
       "      <td>25003</td>\n",
       "      <td>bmw</td>\n",
       "      <td>46000.0</td>\n",
       "      <td>Third</td>\n",
       "      <td>2014</td>\n",
       "      <td>5</td>\n",
       "      <td>1995</td>\n",
       "      <td>105.0</td>\n",
       "      <td>7</td>\n",
       "      <td>auto</td>\n",
       "      <td>diesel</td>\n",
       "      <td>2392855.50</td>\n",
       "    </tr>\n",
       "    <tr>\n",
       "      <th>3</th>\n",
       "      <td>25004</td>\n",
       "      <td>nissan</td>\n",
       "      <td>43949.0</td>\n",
       "      <td>Third</td>\n",
       "      <td>2011</td>\n",
       "      <td>8</td>\n",
       "      <td>1618</td>\n",
       "      <td>140.0</td>\n",
       "      <td>7</td>\n",
       "      <td>man</td>\n",
       "      <td>petrol</td>\n",
       "      <td>958606.50</td>\n",
       "    </tr>\n",
       "    <tr>\n",
       "      <th>4</th>\n",
       "      <td>25005</td>\n",
       "      <td>bmw</td>\n",
       "      <td>59524.0</td>\n",
       "      <td>Fourth &amp; Above</td>\n",
       "      <td>2012</td>\n",
       "      <td>7</td>\n",
       "      <td>2993</td>\n",
       "      <td>180.0</td>\n",
       "      <td>7</td>\n",
       "      <td>auto</td>\n",
       "      <td>diesel</td>\n",
       "      <td>3085561.50</td>\n",
       "    </tr>\n",
       "  </tbody>\n",
       "</table>\n",
       "</div>"
      ],
      "text/plain": [
       "      Id   Maker  Distance       Owner Type  manufacture_year  Age of car  \\\n",
       "0  25001   skoda        NaN          Second              1964          55   \n",
       "1  25002    fiat    27750.0           Third              2012           7   \n",
       "2  25003     bmw    46000.0           Third              2014           5   \n",
       "3  25004  nissan    43949.0           Third              2011           8   \n",
       "4  25005     bmw    59524.0  Fourth & Above              2012           7   \n",
       "\n",
       "   engine_displacement  engine_power  Vroom Audit Rating transmission  \\\n",
       "0                 1964         147.0                   8          man   \n",
       "1                 1242          51.0                   6          man   \n",
       "2                 1995         105.0                   7         auto   \n",
       "3                 1618         140.0                   7          man   \n",
       "4                 2993         180.0                   7         auto   \n",
       "\n",
       "  fuel_type       Price  \n",
       "0    petrol   543764.25  \n",
       "1    petrol   401819.25  \n",
       "2    diesel  2392855.50  \n",
       "3    petrol   958606.50  \n",
       "4    diesel  3085561.50  "
      ]
     },
     "execution_count": 56,
     "metadata": {},
     "output_type": "execute_result"
    }
   ],
   "source": [
    "train.head()"
   ]
  },
  {
   "cell_type": "code",
   "execution_count": 57,
   "metadata": {},
   "outputs": [],
   "source": [
    "from sklearn import preprocessing \n",
    "label_encoder = preprocessing.LabelEncoder() \n",
    "train['Owner Type']= label_encoder.fit_transform(train['Owner Type']) \n"
   ]
  },
  {
   "cell_type": "code",
   "execution_count": 58,
   "metadata": {},
   "outputs": [
    {
     "data": {
      "text/plain": [
       "0    13406\n",
       "3    13395\n",
       "2    13365\n",
       "1    13349\n",
       "Name: Owner Type, dtype: int64"
      ]
     },
     "execution_count": 58,
     "metadata": {},
     "output_type": "execute_result"
    }
   ],
   "source": [
    "train[\"Owner Type\"].value_counts()\n",
    "# here 0 represents First hand\n",
    "#3-Third hand\n",
    "#2-Second hand\n",
    "#1-Fourth and above"
   ]
  },
  {
   "cell_type": "code",
   "execution_count": 59,
   "metadata": {},
   "outputs": [
    {
     "data": {
      "text/plain": [
       "Id                        0\n",
       "Maker                     0\n",
       "Distance               1211\n",
       "Owner Type                0\n",
       "manufacture_year          0\n",
       "Age of car                0\n",
       "engine_displacement       0\n",
       "engine_power           1439\n",
       "Vroom Audit Rating        0\n",
       "transmission              0\n",
       "fuel_type                 0\n",
       "Price                     0\n",
       "dtype: int64"
      ]
     },
     "execution_count": 59,
     "metadata": {},
     "output_type": "execute_result"
    }
   ],
   "source": [
    "train.isnull().sum()"
   ]
  },
  {
   "cell_type": "code",
   "execution_count": 60,
   "metadata": {},
   "outputs": [
    {
     "data": {
      "text/plain": [
       "First             1491\n",
       "Third             1413\n",
       "Fourth & Above    1376\n",
       "Second            1335\n",
       "Name: Owner Type, dtype: int64"
      ]
     },
     "execution_count": 60,
     "metadata": {},
     "output_type": "execute_result"
    }
   ],
   "source": [
    "test[\"Owner Type\"].value_counts()"
   ]
  },
  {
   "cell_type": "code",
   "execution_count": 61,
   "metadata": {},
   "outputs": [],
   "source": [
    "train[\"engine_power\"].fillna(train[\"engine_power\"].mean(),inplace=True)"
   ]
  },
  {
   "cell_type": "code",
   "execution_count": 62,
   "metadata": {},
   "outputs": [
    {
     "data": {
      "text/plain": [
       "Id                        0\n",
       "Maker                     0\n",
       "Distance               1211\n",
       "Owner Type                0\n",
       "manufacture_year          0\n",
       "Age of car                0\n",
       "engine_displacement       0\n",
       "engine_power              0\n",
       "Vroom Audit Rating        0\n",
       "transmission              0\n",
       "fuel_type                 0\n",
       "Price                     0\n",
       "dtype: int64"
      ]
     },
     "execution_count": 62,
     "metadata": {},
     "output_type": "execute_result"
    }
   ],
   "source": [
    "train.isnull().sum()"
   ]
  },
  {
   "cell_type": "code",
   "execution_count": 63,
   "metadata": {},
   "outputs": [
    {
     "data": {
      "text/plain": [
       "skoda       21563\n",
       "toyota       7840\n",
       "audi         7326\n",
       "bmw          7178\n",
       "nissan       5485\n",
       "hyundai      2240\n",
       "fiat         1845\n",
       "maserati       38\n",
       "Name: Maker, dtype: int64"
      ]
     },
     "execution_count": 63,
     "metadata": {},
     "output_type": "execute_result"
    }
   ],
   "source": [
    "train[\"Maker\"].value_counts()"
   ]
  },
  {
   "cell_type": "code",
   "execution_count": 64,
   "metadata": {},
   "outputs": [
    {
     "data": {
      "text/plain": [
       "man     36734\n",
       "auto    16781\n",
       "Name: transmission, dtype: int64"
      ]
     },
     "execution_count": 64,
     "metadata": {},
     "output_type": "execute_result"
    }
   ],
   "source": [
    "train['transmission'].value_counts()"
   ]
  },
  {
   "cell_type": "code",
   "execution_count": 65,
   "metadata": {},
   "outputs": [
    {
     "data": {
      "text/plain": [
       "diesel    27559\n",
       "petrol    25956\n",
       "Name: fuel_type, dtype: int64"
      ]
     },
     "execution_count": 65,
     "metadata": {},
     "output_type": "execute_result"
    }
   ],
   "source": [
    "train['fuel_type'].value_counts()"
   ]
  },
  {
   "cell_type": "code",
   "execution_count": 66,
   "metadata": {},
   "outputs": [],
   "source": [
    "train['Maker']= label_encoder.fit_transform(train['Maker'])\n",
    "train['transmission']= label_encoder.fit_transform(train['transmission'])\n",
    "train['fuel_type']= label_encoder.fit_transform(train['fuel_type'])"
   ]
  },
  {
   "cell_type": "code",
   "execution_count": 67,
   "metadata": {},
   "outputs": [
    {
     "data": {
      "text/html": [
       "<div>\n",
       "<style scoped>\n",
       "    .dataframe tbody tr th:only-of-type {\n",
       "        vertical-align: middle;\n",
       "    }\n",
       "\n",
       "    .dataframe tbody tr th {\n",
       "        vertical-align: top;\n",
       "    }\n",
       "\n",
       "    .dataframe thead th {\n",
       "        text-align: right;\n",
       "    }\n",
       "</style>\n",
       "<table border=\"1\" class=\"dataframe\">\n",
       "  <thead>\n",
       "    <tr style=\"text-align: right;\">\n",
       "      <th></th>\n",
       "      <th>Id</th>\n",
       "      <th>Maker</th>\n",
       "      <th>Distance</th>\n",
       "      <th>Owner Type</th>\n",
       "      <th>manufacture_year</th>\n",
       "      <th>Age of car</th>\n",
       "      <th>engine_displacement</th>\n",
       "      <th>engine_power</th>\n",
       "      <th>Vroom Audit Rating</th>\n",
       "      <th>transmission</th>\n",
       "      <th>fuel_type</th>\n",
       "      <th>Price</th>\n",
       "    </tr>\n",
       "  </thead>\n",
       "  <tbody>\n",
       "    <tr>\n",
       "      <th>0</th>\n",
       "      <td>25001</td>\n",
       "      <td>6</td>\n",
       "      <td>NaN</td>\n",
       "      <td>2</td>\n",
       "      <td>1964</td>\n",
       "      <td>55</td>\n",
       "      <td>1964</td>\n",
       "      <td>147.0</td>\n",
       "      <td>8</td>\n",
       "      <td>1</td>\n",
       "      <td>1</td>\n",
       "      <td>543764.25</td>\n",
       "    </tr>\n",
       "    <tr>\n",
       "      <th>1</th>\n",
       "      <td>25002</td>\n",
       "      <td>2</td>\n",
       "      <td>27750.0</td>\n",
       "      <td>3</td>\n",
       "      <td>2012</td>\n",
       "      <td>7</td>\n",
       "      <td>1242</td>\n",
       "      <td>51.0</td>\n",
       "      <td>6</td>\n",
       "      <td>1</td>\n",
       "      <td>1</td>\n",
       "      <td>401819.25</td>\n",
       "    </tr>\n",
       "    <tr>\n",
       "      <th>2</th>\n",
       "      <td>25003</td>\n",
       "      <td>1</td>\n",
       "      <td>46000.0</td>\n",
       "      <td>3</td>\n",
       "      <td>2014</td>\n",
       "      <td>5</td>\n",
       "      <td>1995</td>\n",
       "      <td>105.0</td>\n",
       "      <td>7</td>\n",
       "      <td>0</td>\n",
       "      <td>0</td>\n",
       "      <td>2392855.50</td>\n",
       "    </tr>\n",
       "    <tr>\n",
       "      <th>3</th>\n",
       "      <td>25004</td>\n",
       "      <td>5</td>\n",
       "      <td>43949.0</td>\n",
       "      <td>3</td>\n",
       "      <td>2011</td>\n",
       "      <td>8</td>\n",
       "      <td>1618</td>\n",
       "      <td>140.0</td>\n",
       "      <td>7</td>\n",
       "      <td>1</td>\n",
       "      <td>1</td>\n",
       "      <td>958606.50</td>\n",
       "    </tr>\n",
       "    <tr>\n",
       "      <th>4</th>\n",
       "      <td>25005</td>\n",
       "      <td>1</td>\n",
       "      <td>59524.0</td>\n",
       "      <td>1</td>\n",
       "      <td>2012</td>\n",
       "      <td>7</td>\n",
       "      <td>2993</td>\n",
       "      <td>180.0</td>\n",
       "      <td>7</td>\n",
       "      <td>0</td>\n",
       "      <td>0</td>\n",
       "      <td>3085561.50</td>\n",
       "    </tr>\n",
       "  </tbody>\n",
       "</table>\n",
       "</div>"
      ],
      "text/plain": [
       "      Id  Maker  Distance   Owner Type  manufacture_year  Age of car  \\\n",
       "0  25001      6        NaN           2              1964          55   \n",
       "1  25002      2    27750.0           3              2012           7   \n",
       "2  25003      1    46000.0           3              2014           5   \n",
       "3  25004      5    43949.0           3              2011           8   \n",
       "4  25005      1    59524.0           1              2012           7   \n",
       "\n",
       "   engine_displacement  engine_power  Vroom Audit Rating  transmission  \\\n",
       "0                 1964         147.0                   8             1   \n",
       "1                 1242          51.0                   6             1   \n",
       "2                 1995         105.0                   7             0   \n",
       "3                 1618         140.0                   7             1   \n",
       "4                 2993         180.0                   7             0   \n",
       "\n",
       "   fuel_type       Price  \n",
       "0          1   543764.25  \n",
       "1          1   401819.25  \n",
       "2          0  2392855.50  \n",
       "3          1   958606.50  \n",
       "4          0  3085561.50  "
      ]
     },
     "execution_count": 67,
     "metadata": {},
     "output_type": "execute_result"
    }
   ],
   "source": [
    "train.head()"
   ]
  },
  {
   "cell_type": "code",
   "execution_count": 68,
   "metadata": {},
   "outputs": [
    {
     "data": {
      "text/plain": [
       "Id                       int64\n",
       "Maker                    int32\n",
       "Distance               float64\n",
       "Owner Type               int32\n",
       "manufacture_year         int64\n",
       "Age of car               int64\n",
       "engine_displacement      int64\n",
       "engine_power           float64\n",
       "Vroom Audit Rating       int64\n",
       "transmission             int32\n",
       "fuel_type                int32\n",
       "Price                  float64\n",
       "dtype: object"
      ]
     },
     "execution_count": 68,
     "metadata": {},
     "output_type": "execute_result"
    }
   ],
   "source": [
    "train.dtypes"
   ]
  },
  {
   "cell_type": "code",
   "execution_count": 69,
   "metadata": {},
   "outputs": [
    {
     "data": {
      "text/html": [
       "<div>\n",
       "<style scoped>\n",
       "    .dataframe tbody tr th:only-of-type {\n",
       "        vertical-align: middle;\n",
       "    }\n",
       "\n",
       "    .dataframe tbody tr th {\n",
       "        vertical-align: top;\n",
       "    }\n",
       "\n",
       "    .dataframe thead th {\n",
       "        text-align: right;\n",
       "    }\n",
       "</style>\n",
       "<table border=\"1\" class=\"dataframe\">\n",
       "  <thead>\n",
       "    <tr style=\"text-align: right;\">\n",
       "      <th></th>\n",
       "      <th>Id</th>\n",
       "      <th>Maker</th>\n",
       "      <th>Distance</th>\n",
       "      <th>Owner Type</th>\n",
       "      <th>manufacture_year</th>\n",
       "      <th>Age of car</th>\n",
       "      <th>engine_displacement</th>\n",
       "      <th>engine_power</th>\n",
       "      <th>Vroom Audit Rating</th>\n",
       "      <th>transmission</th>\n",
       "      <th>fuel_type</th>\n",
       "      <th>Price</th>\n",
       "    </tr>\n",
       "  </thead>\n",
       "  <tbody>\n",
       "    <tr>\n",
       "      <th>Id</th>\n",
       "      <td>1.000000</td>\n",
       "      <td>0.001518</td>\n",
       "      <td>-0.000282</td>\n",
       "      <td>0.003215</td>\n",
       "      <td>0.001935</td>\n",
       "      <td>-0.001935</td>\n",
       "      <td>0.003698</td>\n",
       "      <td>0.002422</td>\n",
       "      <td>0.005602</td>\n",
       "      <td>-0.005550</td>\n",
       "      <td>0.001921</td>\n",
       "      <td>0.003195</td>\n",
       "    </tr>\n",
       "    <tr>\n",
       "      <th>Maker</th>\n",
       "      <td>0.001518</td>\n",
       "      <td>1.000000</td>\n",
       "      <td>0.042456</td>\n",
       "      <td>-0.002007</td>\n",
       "      <td>-0.069465</td>\n",
       "      <td>0.069465</td>\n",
       "      <td>-0.195926</td>\n",
       "      <td>-0.579373</td>\n",
       "      <td>-0.004548</td>\n",
       "      <td>0.379159</td>\n",
       "      <td>0.246158</td>\n",
       "      <td>-0.568821</td>\n",
       "    </tr>\n",
       "    <tr>\n",
       "      <th>Distance</th>\n",
       "      <td>-0.000282</td>\n",
       "      <td>0.042456</td>\n",
       "      <td>1.000000</td>\n",
       "      <td>-0.004259</td>\n",
       "      <td>-0.229124</td>\n",
       "      <td>0.229124</td>\n",
       "      <td>0.111261</td>\n",
       "      <td>0.010525</td>\n",
       "      <td>-0.006298</td>\n",
       "      <td>0.017511</td>\n",
       "      <td>-0.014131</td>\n",
       "      <td>-0.158515</td>\n",
       "    </tr>\n",
       "    <tr>\n",
       "      <th>Owner Type</th>\n",
       "      <td>0.003215</td>\n",
       "      <td>-0.002007</td>\n",
       "      <td>-0.004259</td>\n",
       "      <td>1.000000</td>\n",
       "      <td>-0.004829</td>\n",
       "      <td>0.004829</td>\n",
       "      <td>0.002344</td>\n",
       "      <td>0.003411</td>\n",
       "      <td>0.000595</td>\n",
       "      <td>-0.000978</td>\n",
       "      <td>-0.006580</td>\n",
       "      <td>-0.003125</td>\n",
       "    </tr>\n",
       "    <tr>\n",
       "      <th>manufacture_year</th>\n",
       "      <td>0.001935</td>\n",
       "      <td>-0.069465</td>\n",
       "      <td>-0.229124</td>\n",
       "      <td>-0.004829</td>\n",
       "      <td>1.000000</td>\n",
       "      <td>-1.000000</td>\n",
       "      <td>-0.090401</td>\n",
       "      <td>0.050330</td>\n",
       "      <td>0.003985</td>\n",
       "      <td>-0.127930</td>\n",
       "      <td>-0.112386</td>\n",
       "      <td>0.506707</td>\n",
       "    </tr>\n",
       "    <tr>\n",
       "      <th>Age of car</th>\n",
       "      <td>-0.001935</td>\n",
       "      <td>0.069465</td>\n",
       "      <td>0.229124</td>\n",
       "      <td>0.004829</td>\n",
       "      <td>-1.000000</td>\n",
       "      <td>1.000000</td>\n",
       "      <td>0.090401</td>\n",
       "      <td>-0.050330</td>\n",
       "      <td>-0.003985</td>\n",
       "      <td>0.127930</td>\n",
       "      <td>0.112386</td>\n",
       "      <td>-0.506707</td>\n",
       "    </tr>\n",
       "    <tr>\n",
       "      <th>engine_displacement</th>\n",
       "      <td>0.003698</td>\n",
       "      <td>-0.195926</td>\n",
       "      <td>0.111261</td>\n",
       "      <td>0.002344</td>\n",
       "      <td>-0.090401</td>\n",
       "      <td>0.090401</td>\n",
       "      <td>1.000000</td>\n",
       "      <td>0.317419</td>\n",
       "      <td>-0.005828</td>\n",
       "      <td>-0.207715</td>\n",
       "      <td>-0.125746</td>\n",
       "      <td>0.162072</td>\n",
       "    </tr>\n",
       "    <tr>\n",
       "      <th>engine_power</th>\n",
       "      <td>0.002422</td>\n",
       "      <td>-0.579373</td>\n",
       "      <td>0.010525</td>\n",
       "      <td>0.003411</td>\n",
       "      <td>0.050330</td>\n",
       "      <td>-0.050330</td>\n",
       "      <td>0.317419</td>\n",
       "      <td>1.000000</td>\n",
       "      <td>-0.001766</td>\n",
       "      <td>-0.506983</td>\n",
       "      <td>-0.289952</td>\n",
       "      <td>0.621601</td>\n",
       "    </tr>\n",
       "    <tr>\n",
       "      <th>Vroom Audit Rating</th>\n",
       "      <td>0.005602</td>\n",
       "      <td>-0.004548</td>\n",
       "      <td>-0.006298</td>\n",
       "      <td>0.000595</td>\n",
       "      <td>0.003985</td>\n",
       "      <td>-0.003985</td>\n",
       "      <td>-0.005828</td>\n",
       "      <td>-0.001766</td>\n",
       "      <td>1.000000</td>\n",
       "      <td>0.002945</td>\n",
       "      <td>-0.002789</td>\n",
       "      <td>0.005109</td>\n",
       "    </tr>\n",
       "    <tr>\n",
       "      <th>transmission</th>\n",
       "      <td>-0.005550</td>\n",
       "      <td>0.379159</td>\n",
       "      <td>0.017511</td>\n",
       "      <td>-0.000978</td>\n",
       "      <td>-0.127930</td>\n",
       "      <td>0.127930</td>\n",
       "      <td>-0.207715</td>\n",
       "      <td>-0.506983</td>\n",
       "      <td>0.002945</td>\n",
       "      <td>1.000000</td>\n",
       "      <td>0.194639</td>\n",
       "      <td>-0.499240</td>\n",
       "    </tr>\n",
       "    <tr>\n",
       "      <th>fuel_type</th>\n",
       "      <td>0.001921</td>\n",
       "      <td>0.246158</td>\n",
       "      <td>-0.014131</td>\n",
       "      <td>-0.006580</td>\n",
       "      <td>-0.112386</td>\n",
       "      <td>0.112386</td>\n",
       "      <td>-0.125746</td>\n",
       "      <td>-0.289952</td>\n",
       "      <td>-0.002789</td>\n",
       "      <td>0.194639</td>\n",
       "      <td>1.000000</td>\n",
       "      <td>-0.316354</td>\n",
       "    </tr>\n",
       "    <tr>\n",
       "      <th>Price</th>\n",
       "      <td>0.003195</td>\n",
       "      <td>-0.568821</td>\n",
       "      <td>-0.158515</td>\n",
       "      <td>-0.003125</td>\n",
       "      <td>0.506707</td>\n",
       "      <td>-0.506707</td>\n",
       "      <td>0.162072</td>\n",
       "      <td>0.621601</td>\n",
       "      <td>0.005109</td>\n",
       "      <td>-0.499240</td>\n",
       "      <td>-0.316354</td>\n",
       "      <td>1.000000</td>\n",
       "    </tr>\n",
       "  </tbody>\n",
       "</table>\n",
       "</div>"
      ],
      "text/plain": [
       "                           Id     Maker  Distance   Owner Type  \\\n",
       "Id                   1.000000  0.001518  -0.000282    0.003215   \n",
       "Maker                0.001518  1.000000   0.042456   -0.002007   \n",
       "Distance            -0.000282  0.042456   1.000000   -0.004259   \n",
       "Owner Type           0.003215 -0.002007  -0.004259    1.000000   \n",
       "manufacture_year     0.001935 -0.069465  -0.229124   -0.004829   \n",
       "Age of car          -0.001935  0.069465   0.229124    0.004829   \n",
       "engine_displacement  0.003698 -0.195926   0.111261    0.002344   \n",
       "engine_power         0.002422 -0.579373   0.010525    0.003411   \n",
       "Vroom Audit Rating   0.005602 -0.004548  -0.006298    0.000595   \n",
       "transmission        -0.005550  0.379159   0.017511   -0.000978   \n",
       "fuel_type            0.001921  0.246158  -0.014131   -0.006580   \n",
       "Price                0.003195 -0.568821  -0.158515   -0.003125   \n",
       "\n",
       "                     manufacture_year  Age of car  engine_displacement  \\\n",
       "Id                           0.001935   -0.001935             0.003698   \n",
       "Maker                       -0.069465    0.069465            -0.195926   \n",
       "Distance                    -0.229124    0.229124             0.111261   \n",
       "Owner Type                  -0.004829    0.004829             0.002344   \n",
       "manufacture_year             1.000000   -1.000000            -0.090401   \n",
       "Age of car                  -1.000000    1.000000             0.090401   \n",
       "engine_displacement         -0.090401    0.090401             1.000000   \n",
       "engine_power                 0.050330   -0.050330             0.317419   \n",
       "Vroom Audit Rating           0.003985   -0.003985            -0.005828   \n",
       "transmission                -0.127930    0.127930            -0.207715   \n",
       "fuel_type                   -0.112386    0.112386            -0.125746   \n",
       "Price                        0.506707   -0.506707             0.162072   \n",
       "\n",
       "                     engine_power  Vroom Audit Rating  transmission  \\\n",
       "Id                       0.002422            0.005602     -0.005550   \n",
       "Maker                   -0.579373           -0.004548      0.379159   \n",
       "Distance                 0.010525           -0.006298      0.017511   \n",
       "Owner Type               0.003411            0.000595     -0.000978   \n",
       "manufacture_year         0.050330            0.003985     -0.127930   \n",
       "Age of car              -0.050330           -0.003985      0.127930   \n",
       "engine_displacement      0.317419           -0.005828     -0.207715   \n",
       "engine_power             1.000000           -0.001766     -0.506983   \n",
       "Vroom Audit Rating      -0.001766            1.000000      0.002945   \n",
       "transmission            -0.506983            0.002945      1.000000   \n",
       "fuel_type               -0.289952           -0.002789      0.194639   \n",
       "Price                    0.621601            0.005109     -0.499240   \n",
       "\n",
       "                     fuel_type     Price  \n",
       "Id                    0.001921  0.003195  \n",
       "Maker                 0.246158 -0.568821  \n",
       "Distance             -0.014131 -0.158515  \n",
       "Owner Type           -0.006580 -0.003125  \n",
       "manufacture_year     -0.112386  0.506707  \n",
       "Age of car            0.112386 -0.506707  \n",
       "engine_displacement  -0.125746  0.162072  \n",
       "engine_power         -0.289952  0.621601  \n",
       "Vroom Audit Rating   -0.002789  0.005109  \n",
       "transmission          0.194639 -0.499240  \n",
       "fuel_type             1.000000 -0.316354  \n",
       "Price                -0.316354  1.000000  "
      ]
     },
     "execution_count": 69,
     "metadata": {},
     "output_type": "execute_result"
    }
   ],
   "source": [
    "train.corr()"
   ]
  },
  {
   "cell_type": "code",
   "execution_count": 70,
   "metadata": {},
   "outputs": [
    {
     "data": {
      "text/plain": [
       "<matplotlib.axes._subplots.AxesSubplot at 0xf245d7fc88>"
      ]
     },
     "execution_count": 70,
     "metadata": {},
     "output_type": "execute_result"
    },
    {
     "data": {
      "image/png": "[encoded data removed]",
      "text/plain": [
       "<Figure size 432x288 with 2 Axes>"
      ]
     },
     "metadata": {
      "needs_background": "light"
     },
     "output_type": "display_data"
    }
   ],
   "source": [
    "\n",
    "sns.heatmap(train.corr(),cmap='coolwarm')"
   ]
  },
  {
   "cell_type": "code",
   "execution_count": 71,
   "metadata": {},
   "outputs": [],
   "source": [
    "train[\"Distance \"] = train.groupby(\"Owner Type\").transform(lambda x: x.fillna(x.mean()))"
   ]
  },
  {
   "cell_type": "code",
   "execution_count": 72,
   "metadata": {},
   "outputs": [
    {
     "data": {
      "text/plain": [
       "0"
      ]
     },
     "execution_count": 72,
     "metadata": {},
     "output_type": "execute_result"
    }
   ],
   "source": [
    "train[\"Distance \"].isnull().sum()"
   ]
  },
  {
   "cell_type": "code",
   "execution_count": 73,
   "metadata": {},
   "outputs": [
    {
     "data": {
      "text/plain": [
       "Id                     0\n",
       "Maker                  0\n",
       "Distance               0\n",
       "Owner Type             0\n",
       "manufacture_year       0\n",
       "Age of car             0\n",
       "engine_displacement    0\n",
       "engine_power           0\n",
       "Vroom Audit Rating     0\n",
       "transmission           0\n",
       "fuel_type              0\n",
       "Price                  0\n",
       "dtype: int64"
      ]
     },
     "execution_count": 73,
     "metadata": {},
     "output_type": "execute_result"
    }
   ],
   "source": [
    "train.isnull().sum()"
   ]
  },
  {
   "cell_type": "code",
   "execution_count": 74,
   "metadata": {},
   "outputs": [
    {
     "data": {
      "text/plain": [
       "Id                       int64\n",
       "Maker                    int32\n",
       "Distance               float64\n",
       "Owner Type               int32\n",
       "manufacture_year         int64\n",
       "Age of car               int64\n",
       "engine_displacement      int64\n",
       "engine_power           float64\n",
       "Vroom Audit Rating       int64\n",
       "transmission             int32\n",
       "fuel_type                int32\n",
       "Price                  float64\n",
       "dtype: object"
      ]
     },
     "execution_count": 74,
     "metadata": {},
     "output_type": "execute_result"
    }
   ],
   "source": [
    "train.dtypes"
   ]
  },
  {
   "cell_type": "markdown",
   "metadata": {},
   "source": [
    "# Test Data"
   ]
  },
  {
   "cell_type": "code",
   "execution_count": 75,
   "metadata": {},
   "outputs": [
    {
     "data": {
      "text/plain": [
       "skoda       2251\n",
       "toyota       851\n",
       "audi         747\n",
       "bmw          704\n",
       "nissan       597\n",
       "hyundai      260\n",
       "fiat         200\n",
       "maserati       5\n",
       "Name: Maker, dtype: int64"
      ]
     },
     "execution_count": 75,
     "metadata": {},
     "output_type": "execute_result"
    }
   ],
   "source": [
    "test[\"Maker\"].value_counts()"
   ]
  },
  {
   "cell_type": "code",
   "execution_count": 76,
   "metadata": {},
   "outputs": [
    {
     "data": {
      "text/plain": [
       "First             1491\n",
       "Third             1413\n",
       "Fourth & Above    1376\n",
       "Second            1335\n",
       "Name: Owner Type, dtype: int64"
      ]
     },
     "execution_count": 76,
     "metadata": {},
     "output_type": "execute_result"
    }
   ],
   "source": [
    "test[\"Owner Type\"].value_counts()"
   ]
  },
  {
   "cell_type": "code",
   "execution_count": 77,
   "metadata": {},
   "outputs": [],
   "source": [
    "test.drop([\"model\",\"Location\",\"door_count\",\"body_type\",\"seat_count\"],axis=1,inplace=True)"
   ]
  },
  {
   "cell_type": "code",
   "execution_count": 78,
   "metadata": {},
   "outputs": [
    {
     "data": {
      "text/html": [
       "<div>\n",
       "<style scoped>\n",
       "    .dataframe tbody tr th:only-of-type {\n",
       "        vertical-align: middle;\n",
       "    }\n",
       "\n",
       "    .dataframe tbody tr th {\n",
       "        vertical-align: top;\n",
       "    }\n",
       "\n",
       "    .dataframe thead th {\n",
       "        text-align: right;\n",
       "    }\n",
       "</style>\n",
       "<table border=\"1\" class=\"dataframe\">\n",
       "  <thead>\n",
       "    <tr style=\"text-align: right;\">\n",
       "      <th></th>\n",
       "      <th>Id</th>\n",
       "      <th>Maker</th>\n",
       "      <th>Distance</th>\n",
       "      <th>Owner Type</th>\n",
       "      <th>manufacture_year</th>\n",
       "      <th>Age of car</th>\n",
       "      <th>engine_displacement</th>\n",
       "      <th>engine_power</th>\n",
       "      <th>Vroom Audit Rating</th>\n",
       "      <th>transmission</th>\n",
       "      <th>fuel_type</th>\n",
       "    </tr>\n",
       "  </thead>\n",
       "  <tbody>\n",
       "    <tr>\n",
       "      <th>0</th>\n",
       "      <td>11001</td>\n",
       "      <td>skoda</td>\n",
       "      <td>150000.0</td>\n",
       "      <td>First</td>\n",
       "      <td>2007</td>\n",
       "      <td>12</td>\n",
       "      <td>1595</td>\n",
       "      <td>75.0</td>\n",
       "      <td>5</td>\n",
       "      <td>man</td>\n",
       "      <td>petrol</td>\n",
       "    </tr>\n",
       "    <tr>\n",
       "      <th>1</th>\n",
       "      <td>11002</td>\n",
       "      <td>skoda</td>\n",
       "      <td>29376.0</td>\n",
       "      <td>Third</td>\n",
       "      <td>2014</td>\n",
       "      <td>5</td>\n",
       "      <td>1598</td>\n",
       "      <td>77.0</td>\n",
       "      <td>4</td>\n",
       "      <td>man</td>\n",
       "      <td>diesel</td>\n",
       "    </tr>\n",
       "    <tr>\n",
       "      <th>2</th>\n",
       "      <td>11003</td>\n",
       "      <td>skoda</td>\n",
       "      <td>30563.0</td>\n",
       "      <td>Second</td>\n",
       "      <td>2014</td>\n",
       "      <td>5</td>\n",
       "      <td>1968</td>\n",
       "      <td>110.0</td>\n",
       "      <td>5</td>\n",
       "      <td>man</td>\n",
       "      <td>diesel</td>\n",
       "    </tr>\n",
       "    <tr>\n",
       "      <th>3</th>\n",
       "      <td>11004</td>\n",
       "      <td>audi</td>\n",
       "      <td>8650.0</td>\n",
       "      <td>Fourth &amp; Above</td>\n",
       "      <td>2015</td>\n",
       "      <td>4</td>\n",
       "      <td>1968</td>\n",
       "      <td>110.0</td>\n",
       "      <td>8</td>\n",
       "      <td>auto</td>\n",
       "      <td>diesel</td>\n",
       "    </tr>\n",
       "    <tr>\n",
       "      <th>4</th>\n",
       "      <td>11005</td>\n",
       "      <td>audi</td>\n",
       "      <td>6400.0</td>\n",
       "      <td>Third</td>\n",
       "      <td>2015</td>\n",
       "      <td>4</td>\n",
       "      <td>1984</td>\n",
       "      <td>169.0</td>\n",
       "      <td>4</td>\n",
       "      <td>auto</td>\n",
       "      <td>petrol</td>\n",
       "    </tr>\n",
       "  </tbody>\n",
       "</table>\n",
       "</div>"
      ],
      "text/plain": [
       "      Id  Maker  Distance       Owner Type  manufacture_year  Age of car  \\\n",
       "0  11001  skoda   150000.0           First              2007          12   \n",
       "1  11002  skoda    29376.0           Third              2014           5   \n",
       "2  11003  skoda    30563.0          Second              2014           5   \n",
       "3  11004   audi     8650.0  Fourth & Above              2015           4   \n",
       "4  11005   audi     6400.0           Third              2015           4   \n",
       "\n",
       "   engine_displacement  engine_power  Vroom Audit Rating transmission  \\\n",
       "0                 1595          75.0                   5          man   \n",
       "1                 1598          77.0                   4          man   \n",
       "2                 1968         110.0                   5          man   \n",
       "3                 1968         110.0                   8         auto   \n",
       "4                 1984         169.0                   4         auto   \n",
       "\n",
       "  fuel_type  \n",
       "0    petrol  \n",
       "1    diesel  \n",
       "2    diesel  \n",
       "3    diesel  \n",
       "4    petrol  "
      ]
     },
     "execution_count": 78,
     "metadata": {},
     "output_type": "execute_result"
    }
   ],
   "source": [
    "test.head()"
   ]
  },
  {
   "cell_type": "code",
   "execution_count": 79,
   "metadata": {},
   "outputs": [],
   "source": [
    "from sklearn import preprocessing \n",
    "label_encoder = preprocessing.LabelEncoder() \n",
    "test['Owner Type']= label_encoder.fit_transform(test['Owner Type']) \n"
   ]
  },
  {
   "cell_type": "code",
   "execution_count": 80,
   "metadata": {},
   "outputs": [
    {
     "data": {
      "text/plain": [
       "0    1491\n",
       "3    1413\n",
       "1    1376\n",
       "2    1335\n",
       "Name: Owner Type, dtype: int64"
      ]
     },
     "execution_count": 80,
     "metadata": {},
     "output_type": "execute_result"
    }
   ],
   "source": [
    "test[\"Owner Type\"].value_counts()\n",
    "# here 0 represents First hand\n",
    "#3-Third hand\n",
    "#2-Second hand\n",
    "#1-Fourth and above"
   ]
  },
  {
   "cell_type": "code",
   "execution_count": 81,
   "metadata": {},
   "outputs": [
    {
     "data": {
      "text/plain": [
       "Id                       0\n",
       "Maker                    0\n",
       "Distance               128\n",
       "Owner Type               0\n",
       "manufacture_year         0\n",
       "Age of car               0\n",
       "engine_displacement      0\n",
       "engine_power           168\n",
       "Vroom Audit Rating       0\n",
       "transmission             0\n",
       "fuel_type                0\n",
       "dtype: int64"
      ]
     },
     "execution_count": 81,
     "metadata": {},
     "output_type": "execute_result"
    }
   ],
   "source": [
    "test.isnull().sum()"
   ]
  },
  {
   "cell_type": "code",
   "execution_count": 82,
   "metadata": {},
   "outputs": [
    {
     "data": {
      "text/plain": [
       "0    1491\n",
       "3    1413\n",
       "1    1376\n",
       "2    1335\n",
       "Name: Owner Type, dtype: int64"
      ]
     },
     "execution_count": 82,
     "metadata": {},
     "output_type": "execute_result"
    }
   ],
   "source": [
    "test[\"Owner Type\"].value_counts()"
   ]
  },
  {
   "cell_type": "code",
   "execution_count": 83,
   "metadata": {},
   "outputs": [],
   "source": [
    "test[\"engine_power\"].fillna(test[\"engine_power\"].mean(),inplace=True)"
   ]
  },
  {
   "cell_type": "code",
   "execution_count": 84,
   "metadata": {},
   "outputs": [],
   "source": [
    "test['Maker']= label_encoder.fit_transform(test['Maker'])\n",
    "test['transmission']= label_encoder.fit_transform(test['transmission'])\n",
    "test['fuel_type']= label_encoder.fit_transform(test['fuel_type'])"
   ]
  },
  {
   "cell_type": "code",
   "execution_count": 85,
   "metadata": {},
   "outputs": [],
   "source": [
    "test[\"Distance \"] = test.groupby(\"Owner Type\").transform(lambda x: x.fillna(x.mean()))"
   ]
  },
  {
   "cell_type": "code",
   "execution_count": 86,
   "metadata": {},
   "outputs": [
    {
     "data": {
      "text/plain": [
       "Id                     0\n",
       "Maker                  0\n",
       "Distance               0\n",
       "Owner Type             0\n",
       "manufacture_year       0\n",
       "Age of car             0\n",
       "engine_displacement    0\n",
       "engine_power           0\n",
       "Vroom Audit Rating     0\n",
       "transmission           0\n",
       "fuel_type              0\n",
       "dtype: int64"
      ]
     },
     "execution_count": 86,
     "metadata": {},
     "output_type": "execute_result"
    }
   ],
   "source": [
    "test.isnull().sum()"
   ]
  },
  {
   "cell_type": "code",
   "execution_count": 87,
   "metadata": {},
   "outputs": [
    {
     "data": {
      "text/html": [
       "<div>\n",
       "<style scoped>\n",
       "    .dataframe tbody tr th:only-of-type {\n",
       "        vertical-align: middle;\n",
       "    }\n",
       "\n",
       "    .dataframe tbody tr th {\n",
       "        vertical-align: top;\n",
       "    }\n",
       "\n",
       "    .dataframe thead th {\n",
       "        text-align: right;\n",
       "    }\n",
       "</style>\n",
       "<table border=\"1\" class=\"dataframe\">\n",
       "  <thead>\n",
       "    <tr style=\"text-align: right;\">\n",
       "      <th></th>\n",
       "      <th>Id</th>\n",
       "      <th>Maker</th>\n",
       "      <th>Distance</th>\n",
       "      <th>Owner Type</th>\n",
       "      <th>manufacture_year</th>\n",
       "      <th>Age of car</th>\n",
       "      <th>engine_displacement</th>\n",
       "      <th>engine_power</th>\n",
       "      <th>Vroom Audit Rating</th>\n",
       "      <th>transmission</th>\n",
       "      <th>fuel_type</th>\n",
       "    </tr>\n",
       "  </thead>\n",
       "  <tbody>\n",
       "    <tr>\n",
       "      <th>0</th>\n",
       "      <td>11001</td>\n",
       "      <td>6</td>\n",
       "      <td>11001.0</td>\n",
       "      <td>0</td>\n",
       "      <td>2007</td>\n",
       "      <td>12</td>\n",
       "      <td>1595</td>\n",
       "      <td>75.0</td>\n",
       "      <td>5</td>\n",
       "      <td>1</td>\n",
       "      <td>1</td>\n",
       "    </tr>\n",
       "    <tr>\n",
       "      <th>1</th>\n",
       "      <td>11002</td>\n",
       "      <td>6</td>\n",
       "      <td>11002.0</td>\n",
       "      <td>3</td>\n",
       "      <td>2014</td>\n",
       "      <td>5</td>\n",
       "      <td>1598</td>\n",
       "      <td>77.0</td>\n",
       "      <td>4</td>\n",
       "      <td>1</td>\n",
       "      <td>0</td>\n",
       "    </tr>\n",
       "    <tr>\n",
       "      <th>2</th>\n",
       "      <td>11003</td>\n",
       "      <td>6</td>\n",
       "      <td>11003.0</td>\n",
       "      <td>2</td>\n",
       "      <td>2014</td>\n",
       "      <td>5</td>\n",
       "      <td>1968</td>\n",
       "      <td>110.0</td>\n",
       "      <td>5</td>\n",
       "      <td>1</td>\n",
       "      <td>0</td>\n",
       "    </tr>\n",
       "    <tr>\n",
       "      <th>3</th>\n",
       "      <td>11004</td>\n",
       "      <td>0</td>\n",
       "      <td>11004.0</td>\n",
       "      <td>1</td>\n",
       "      <td>2015</td>\n",
       "      <td>4</td>\n",
       "      <td>1968</td>\n",
       "      <td>110.0</td>\n",
       "      <td>8</td>\n",
       "      <td>0</td>\n",
       "      <td>0</td>\n",
       "    </tr>\n",
       "    <tr>\n",
       "      <th>4</th>\n",
       "      <td>11005</td>\n",
       "      <td>0</td>\n",
       "      <td>11005.0</td>\n",
       "      <td>3</td>\n",
       "      <td>2015</td>\n",
       "      <td>4</td>\n",
       "      <td>1984</td>\n",
       "      <td>169.0</td>\n",
       "      <td>4</td>\n",
       "      <td>0</td>\n",
       "      <td>1</td>\n",
       "    </tr>\n",
       "  </tbody>\n",
       "</table>\n",
       "</div>"
      ],
      "text/plain": [
       "      Id  Maker  Distance   Owner Type  manufacture_year  Age of car  \\\n",
       "0  11001      6    11001.0           0              2007          12   \n",
       "1  11002      6    11002.0           3              2014           5   \n",
       "2  11003      6    11003.0           2              2014           5   \n",
       "3  11004      0    11004.0           1              2015           4   \n",
       "4  11005      0    11005.0           3              2015           4   \n",
       "\n",
       "   engine_displacement  engine_power  Vroom Audit Rating  transmission  \\\n",
       "0                 1595          75.0                   5             1   \n",
       "1                 1598          77.0                   4             1   \n",
       "2                 1968         110.0                   5             1   \n",
       "3                 1968         110.0                   8             0   \n",
       "4                 1984         169.0                   4             0   \n",
       "\n",
       "   fuel_type  \n",
       "0          1  \n",
       "1          0  \n",
       "2          0  \n",
       "3          0  \n",
       "4          1  "
      ]
     },
     "execution_count": 87,
     "metadata": {},
     "output_type": "execute_result"
    }
   ],
   "source": [
    "test.head()"
   ]
  },
  {
   "cell_type": "code",
   "execution_count": null,
   "metadata": {},
   "outputs": [],
   "source": []
  },
  {
   "cell_type": "markdown",
   "metadata": {},
   "source": [
    "# model building"
   ]
  },
  {
   "cell_type": "code",
   "execution_count": 88,
   "metadata": {},
   "outputs": [],
   "source": [
    "X = train.drop('Price',1)\n",
    "y = train['Price']"
   ]
  },
  {
   "cell_type": "code",
   "execution_count": 89,
   "metadata": {},
   "outputs": [],
   "source": [
    "from sklearn.model_selection import train_test_split\n",
    "X_train,X_validation, y_train, y_validation = train_test_split(X, y, test_size=0.30, random_state=1)"
   ]
  },
  {
   "cell_type": "code",
   "execution_count": 90,
   "metadata": {},
   "outputs": [],
   "source": [
    "from sklearn.linear_model import LinearRegression\n",
    "from sklearn.metrics import mean_squared_error"
   ]
  },
  {
   "cell_type": "code",
   "execution_count": 91,
   "metadata": {},
   "outputs": [],
   "source": [
    "lr = LinearRegression()"
   ]
  },
  {
   "cell_type": "code",
   "execution_count": 92,
   "metadata": {},
   "outputs": [
    {
     "data": {
      "text/plain": [
       "LinearRegression(copy_X=True, fit_intercept=True, n_jobs=None,\n",
       "         normalize=False)"
      ]
     },
     "execution_count": 92,
     "metadata": {},
     "output_type": "execute_result"
    }
   ],
   "source": [
    "lr.fit(X_train, y_train)"
   ]
  },
  {
   "cell_type": "code",
   "execution_count": 93,
   "metadata": {},
   "outputs": [
    {
     "name": "stdout",
     "output_type": "stream",
     "text": [
      "R^2 score for train: {0.682974466548681}\n",
      "R^2 score for validation: {0.7034179209026401}\n"
     ]
    }
   ],
   "source": [
    "print(f'R^2 score for train:', {lr.score(X_train, y_train)})\n",
    "print(f'R^2 score for validation:', {lr.score(X_validation, y_validation)})"
   ]
  },
  {
   "cell_type": "markdown",
   "metadata": {},
   "source": [
    "# Random forest"
   ]
  },
  {
   "cell_type": "code",
   "execution_count": 95,
   "metadata": {},
   "outputs": [
    {
     "data": {
      "text/plain": [
       "RandomForestRegressor(bootstrap=True, criterion='mse', max_depth=None,\n",
       "           max_features='auto', max_leaf_nodes=None,\n",
       "           min_impurity_decrease=0.0, min_impurity_split=None,\n",
       "           min_samples_leaf=1, min_samples_split=2,\n",
       "           min_weight_fraction_leaf=0.0, n_estimators=10, n_jobs=None,\n",
       "           oob_score=False, random_state=None, verbose=0, warm_start=False)"
      ]
     },
     "execution_count": 95,
     "metadata": {},
     "output_type": "execute_result"
    }
   ],
   "source": [
    "from sklearn.ensemble import RandomForestRegressor\n",
    "\n",
    "params = {'n_estimators' : [2,5,8,10,15,18,20],\n",
    "    'criterion':['mse','mae'],\n",
    "    'max_depth':[3,5,7,9,11,13,15],\n",
    "    'min_samples_split':[2,3,4],\n",
    "    'min_samples_leaf' : [1,3,5]}\n",
    "\n",
    "rf = RandomForestRegressor(n_estimators=10)\n",
    "rf.fit(X_train,y_train)"
   ]
  },
  {
   "cell_type": "code",
   "execution_count": 96,
   "metadata": {},
   "outputs": [
    {
     "name": "stdout",
     "output_type": "stream",
     "text": [
      "Train score - 0.9787467475955963\n",
      "test score -  0.905016226407198\n"
     ]
    }
   ],
   "source": [
    "print('Train score -',rf.score(X_train,y_train))\n",
    "print('test score - ',rf.score(X_validation,y_validation))"
   ]
  },
  {
   "cell_type": "markdown",
   "metadata": {},
   "source": [
    "# Bagging"
   ]
  },
  {
   "cell_type": "code",
   "execution_count": 99,
   "metadata": {},
   "outputs": [],
   "source": [
    "%matplotlib inline\n",
    "import itertools\n",
    "import numpy as np\n",
    "import seaborn as sns\n",
    "import matplotlib.pyplot as plt\n",
    "import matplotlib.gridspec as gridspec\n",
    "from sklearn import datasets\n",
    "from sklearn.tree import DecisionTreeRegressor\n",
    "from sklearn.ensemble import RandomForestRegressor\n",
    "from sklearn.ensemble import BaggingRegressor\n",
    "from sklearn.model_selection import cross_val_score, train_test_split\n",
    "from mlxtend.plotting import plot_learning_curves\n",
    "from mlxtend.plotting import plot_decision_regions\n",
    "from sklearn.ensemble import AdaBoostRegressor\n",
    "from mlxtend.classifier import StackingClassifier\n",
    "from sklearn.neighbors import KNeighborsRegressor\n",
    "from sklearn.linear_model import Ridge,Lasso,RidgeCV,LassoCV\n",
    "\n",
    "from warnings import filterwarnings\n",
    "filterwarnings('ignore')\n",
    "np.random.seed(0)"
   ]
  },
  {
   "cell_type": "code",
   "execution_count": 101,
   "metadata": {},
   "outputs": [],
   "source": [
    "import xgboost\n",
    "from sklearn.metrics import explained_variance_score"
   ]
  },
  {
   "cell_type": "code",
   "execution_count": 102,
   "metadata": {},
   "outputs": [
    {
     "ename": "NameError",
     "evalue": "name 'be_x' is not defined",
     "output_type": "error",
     "traceback": [
      "\u001b[1;31m---------------------------------------------------------------------------\u001b[0m",
      "\u001b[1;31mNameError\u001b[0m                                 Traceback (most recent call last)",
      "\u001b[1;32m<ipython-input-102-e4353f0da028>\u001b[0m in \u001b[0;36m<module>\u001b[1;34m\u001b[0m\n\u001b[0;32m      1\u001b[0m xgb = xgboost.XGBRegressor(n_estimators=100, learning_rate=0.08, gamma=0, subsample=0.75,\n\u001b[0;32m      2\u001b[0m                            colsample_bytree=1, max_depth=7)\n\u001b[1;32m----> 3\u001b[1;33m \u001b[0mX_train_be\u001b[0m\u001b[1;33m,\u001b[0m\u001b[0mX_test_be\u001b[0m\u001b[1;33m,\u001b[0m\u001b[0my_train_be\u001b[0m\u001b[1;33m,\u001b[0m\u001b[0my_test_be\u001b[0m \u001b[1;33m=\u001b[0m \u001b[0mtrain_test_split\u001b[0m\u001b[1;33m(\u001b[0m\u001b[0mbe_x\u001b[0m\u001b[1;33m,\u001b[0m\u001b[0mbe_y\u001b[0m\u001b[1;33m,\u001b[0m\u001b[0mtest_size\u001b[0m \u001b[1;33m=\u001b[0m \u001b[1;36m0.3\u001b[0m\u001b[1;33m,\u001b[0m\u001b[0mrandom_state\u001b[0m \u001b[1;33m=\u001b[0m \u001b[1;36m0\u001b[0m\u001b[1;33m)\u001b[0m\u001b[1;33m\u001b[0m\u001b[1;33m\u001b[0m\u001b[0m\n\u001b[0m\u001b[0;32m      4\u001b[0m \u001b[1;33m\u001b[0m\u001b[0m\n\u001b[0;32m      5\u001b[0m \u001b[0mxgb\u001b[0m\u001b[1;33m.\u001b[0m\u001b[0mfit\u001b[0m\u001b[1;33m(\u001b[0m\u001b[0mX_train\u001b[0m\u001b[1;33m,\u001b[0m\u001b[0my_train\u001b[0m\u001b[1;33m)\u001b[0m\u001b[1;33m\u001b[0m\u001b[1;33m\u001b[0m\u001b[0m\n",
      "\u001b[1;31mNameError\u001b[0m: name 'be_x' is not defined"
     ]
    }
   ],
   "source": [
    "xgb = xgboost.XGBRegressor(n_estimators=100, learning_rate=0.08, gamma=0, subsample=0.75,\n",
    "                           colsample_bytree=1, max_depth=7)\n",
    "X_train_be,X_test_be,y_train_be,y_test_be = train_test_split(be_x,be_y,test_size = 0.3,random_state = 0)\n",
    "\n",
    "xgb.fit(X_train,y_train)\n",
    "predictions = xgb.predict(X_test)\n",
    "print(explained_variance_score(predictions,y_test))"
   ]
  },
  {
   "cell_type": "code",
   "execution_count": 103,
   "metadata": {},
   "outputs": [
    {
     "ename": "NameError",
     "evalue": "name 'y_test' is not defined",
     "output_type": "error",
     "traceback": [
      "\u001b[1;31m---------------------------------------------------------------------------\u001b[0m",
      "\u001b[1;31mNameError\u001b[0m                                 Traceback (most recent call last)",
      "\u001b[1;32m<ipython-input-103-4d75df3eb931>\u001b[0m in \u001b[0;36m<module>\u001b[1;34m\u001b[0m\n\u001b[1;32m----> 1\u001b[1;33m \u001b[0maccuracy\u001b[0m \u001b[1;33m=\u001b[0m \u001b[0mexplained_variance_score\u001b[0m\u001b[1;33m(\u001b[0m\u001b[0my_test\u001b[0m\u001b[1;33m,\u001b[0m \u001b[0mpredictions\u001b[0m\u001b[1;33m)\u001b[0m\u001b[1;33m\u001b[0m\u001b[1;33m\u001b[0m\u001b[0m\n\u001b[0m\u001b[0;32m      2\u001b[0m \u001b[0mprint\u001b[0m\u001b[1;33m(\u001b[0m\u001b[1;34m\"Accuracy: %.2f%%\"\u001b[0m \u001b[1;33m%\u001b[0m \u001b[1;33m(\u001b[0m\u001b[0maccuracy\u001b[0m \u001b[1;33m*\u001b[0m \u001b[1;36m100.0\u001b[0m\u001b[1;33m)\u001b[0m\u001b[1;33m)\u001b[0m\u001b[1;33m\u001b[0m\u001b[1;33m\u001b[0m\u001b[0m\n",
      "\u001b[1;31mNameError\u001b[0m: name 'y_test' is not defined"
     ]
    }
   ],
   "source": [
    "accuracy = explained_variance_score(y_test, predictions)\n",
    "print(\"Accuracy: %.2f%%\" % (accuracy * 100.0))"
   ]
  },
  {
   "cell_type": "markdown",
   "metadata": {},
   "source": [
    "# Gradient Boosting"
   ]
  },
  {
   "cell_type": "code",
   "execution_count": 104,
   "metadata": {},
   "outputs": [],
   "source": [
    "from sklearn.ensemble import GradientBoostingRegressor\n",
    "boost_reg = GradientBoostingRegressor(n_estimators=50,\n",
    "                                      random_state=3)"
   ]
  },
  {
   "cell_type": "code",
   "execution_count": 105,
   "metadata": {},
   "outputs": [
    {
     "name": "stdout",
     "output_type": "stream",
     "text": [
      "GradientBoostingRegressor(alpha=0.9, criterion='friedman_mse', init=None,\n",
      "             learning_rate=0.1, loss='ls', max_depth=3, max_features=None,\n",
      "             max_leaf_nodes=None, min_impurity_decrease=0.0,\n",
      "             min_impurity_split=None, min_samples_leaf=1,\n",
      "             min_samples_split=2, min_weight_fraction_leaf=0.0,\n",
      "             n_estimators=50, n_iter_no_change=None, presort='auto',\n",
      "             random_state=3, subsample=1.0, tol=0.0001,\n",
      "             validation_fraction=0.1, verbose=0, warm_start=False)\n",
      "0.9053430835585716\n"
     ]
    }
   ],
   "source": [
    "print(boost_reg.fit(X_train, y_train))\n",
    "print(boost_reg.score(X_validation, y_validation))"
   ]
  },
  {
   "cell_type": "code",
   "execution_count": 106,
   "metadata": {},
   "outputs": [
    {
     "name": "stdout",
     "output_type": "stream",
     "text": [
      "0.8804666727896526\n"
     ]
    }
   ],
   "source": [
    "print(boost_reg.score(X_train, y_train))"
   ]
  },
  {
   "cell_type": "markdown",
   "metadata": {},
   "source": [
    "# Adabossting"
   ]
  },
  {
   "cell_type": "code",
   "execution_count": 107,
   "metadata": {},
   "outputs": [
    {
     "data": {
      "text/plain": [
       "AdaBoostRegressor(base_estimator=DecisionTreeRegressor(criterion='mse', max_depth=None, max_features=None,\n",
       "           max_leaf_nodes=None, min_impurity_decrease=0.0,\n",
       "           min_impurity_split=None, min_samples_leaf=1,\n",
       "           min_samples_split=2, min_weight_fraction_leaf=0.0,\n",
       "           presort=False, random_state=None, splitter='best'),\n",
       "         learning_rate=1.0, loss='linear', n_estimators=100,\n",
       "         random_state=0)"
      ]
     },
     "execution_count": 107,
     "metadata": {},
     "output_type": "execute_result"
    }
   ],
   "source": [
    "from sklearn.ensemble import AdaBoostRegressor\n",
    "\n",
    "ada_clf=AdaBoostRegressor(base_estimator=DecisionTreeRegressor(), learning_rate=1.0, loss='linear',\n",
    "        n_estimators=100, random_state=0)\n",
    "ada_clf.fit(X_train, y_train)"
   ]
  },
  {
   "cell_type": "code",
   "execution_count": 108,
   "metadata": {},
   "outputs": [
    {
     "data": {
      "text/plain": [
       "0.9998573788307682"
      ]
     },
     "execution_count": 108,
     "metadata": {},
     "output_type": "execute_result"
    }
   ],
   "source": [
    "ada_clf.score(X_train, y_train)"
   ]
  },
  {
   "cell_type": "code",
   "execution_count": 109,
   "metadata": {},
   "outputs": [
    {
     "data": {
      "text/plain": [
       "0.8938292032936975"
      ]
     },
     "execution_count": 109,
     "metadata": {},
     "output_type": "execute_result"
    }
   ],
   "source": [
    "ada_clf.score(X_validation, y_validation)"
   ]
  },
  {
   "cell_type": "code",
   "execution_count": 110,
   "metadata": {},
   "outputs": [
    {
     "data": {
      "text/plain": [
       "AdaBoostRegressor(base_estimator=DecisionTreeRegressor(criterion='mse', max_depth=None, max_features=None,\n",
       "           max_leaf_nodes=None, min_impurity_decrease=0.0,\n",
       "           min_impurity_split=None, min_samples_leaf=1,\n",
       "           min_samples_split=2, min_weight_fraction_leaf=0.0,\n",
       "           presort=False, random_state=None, splitter='best'),\n",
       "         learning_rate=1.0, loss='linear', n_estimators=100,\n",
       "         random_state=0)"
      ]
     },
     "execution_count": 110,
     "metadata": {},
     "output_type": "execute_result"
    }
   ],
   "source": [
    "from sklearn.ensemble import AdaBoostRegressor\n",
    "\n",
    "ada_clf=AdaBoostRegressor(base_estimator=DecisionTreeRegressor(), learning_rate=1.0, loss='linear',\n",
    "        n_estimators=100, random_state=0)\n",
    "ada_clf.fit(X, y)"
   ]
  },
  {
   "cell_type": "code",
   "execution_count": 111,
   "metadata": {},
   "outputs": [],
   "source": [
    "pred = ada_clf.predict(test)"
   ]
  },
  {
   "cell_type": "code",
   "execution_count": 113,
   "metadata": {},
   "outputs": [],
   "source": [
    "target = ada_clf.predict(X_validation)"
   ]
  },
  {
   "cell_type": "code",
   "execution_count": 114,
   "metadata": {},
   "outputs": [
    {
     "name": "stdout",
     "output_type": "stream",
     "text": [
      "9671.415675757058\n"
     ]
    }
   ],
   "source": [
    "print(np.sqrt(mean_squared_error(y_validation,target)))"
   ]
  },
  {
   "cell_type": "code",
   "execution_count": 115,
   "metadata": {},
   "outputs": [
    {
     "name": "stdout",
     "output_type": "stream",
     "text": [
      "(53515, 12)\n",
      "(5615, 11)\n"
     ]
    }
   ],
   "source": [
    "print(train.shape)\n",
    "print(test.shape)"
   ]
  },
  {
   "cell_type": "code",
   "execution_count": 117,
   "metadata": {},
   "outputs": [
    {
     "data": {
      "text/plain": [
       "(53515, 11)"
      ]
     },
     "execution_count": 117,
     "metadata": {},
     "output_type": "execute_result"
    }
   ],
   "source": [
    "X.shape"
   ]
  },
  {
   "cell_type": "code",
   "execution_count": 118,
   "metadata": {},
   "outputs": [
    {
     "data": {
      "text/plain": [
       "(5615, 11)"
      ]
     },
     "execution_count": 118,
     "metadata": {},
     "output_type": "execute_result"
    }
   ],
   "source": [
    "test.shape"
   ]
  },
  {
   "cell_type": "code",
   "execution_count": 119,
   "metadata": {},
   "outputs": [],
   "source": [
    "identity = pd.read_csv('Test Data Set.csv')"
   ]
  },
  {
   "cell_type": "code",
   "execution_count": 120,
   "metadata": {},
   "outputs": [
    {
     "data": {
      "text/plain": [
       "(5615, 16)"
      ]
     },
     "execution_count": 120,
     "metadata": {},
     "output_type": "execute_result"
    }
   ],
   "source": [
    "identity.shape"
   ]
  },
  {
   "cell_type": "code",
   "execution_count": 121,
   "metadata": {},
   "outputs": [
    {
     "data": {
      "text/plain": [
       "9671.415675757058"
      ]
     },
     "execution_count": 121,
     "metadata": {},
     "output_type": "execute_result"
    }
   ],
   "source": [
    "from sklearn.metrics import mean_squared_error\n",
    "rmse = np.sqrt(mean_squared_error(y_validation,target))\n",
    "rmse"
   ]
  },
  {
   "cell_type": "code",
   "execution_count": 123,
   "metadata": {},
   "outputs": [],
   "source": [
    "pd.DataFrame({'Unique Id':identity['Id'],'Price':pred}).to_csv('Srivatsan1_submission.csv',index=False)"
   ]
  },
  {
   "cell_type": "code",
   "execution_count": null,
   "metadata": {},
   "outputs": [],
   "source": []
  }
 ],
 "metadata": {
  "kernelspec": {
   "display_name": "Python 3",
   "language": "python",
   "name": "python3"
  },
  "language_info": {
   "codemirror_mode": {
    "name": "ipython",
    "version": 3
   },
   "file_extension": ".py",
   "mimetype": "text/x-python",
   "name": "python",
   "nbconvert_exporter": "python",
   "pygments_lexer": "ipython3",
   "version": "3.7.3"
  }
 },
 "nbformat": 4,
 "nbformat_minor": 2
}
